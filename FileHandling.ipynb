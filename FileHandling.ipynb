{
 "cells": [
  {
   "cell_type": "code",
   "execution_count": 1,
   "id": "2117ced4",
   "metadata": {},
   "outputs": [
    {
     "data": {
      "text/plain": [
       "'C:\\\\Users\\\\Faizan_Shakeel\\\\Applied AI Course\\\\Module1_Python'"
      ]
     },
     "execution_count": 1,
     "metadata": {},
     "output_type": "execute_result"
    }
   ],
   "source": [
    "import os\n",
    "os.getcwd()"
   ]
  },
  {
   "cell_type": "code",
   "execution_count": 2,
   "id": "a9230b93",
   "metadata": {},
   "outputs": [
    {
     "data": {
      "text/plain": [
       "['.ipynb_checkpoints',\n",
       " 'checkfile.txt',\n",
       " 'Datatypes.ipynb',\n",
       " 'Faizan.txt',\n",
       " 'FileHandling.ipynb',\n",
       " 'Function.ipynb',\n",
       " 'Function2.ipynb',\n",
       " 'test.txt']"
      ]
     },
     "execution_count": 2,
     "metadata": {},
     "output_type": "execute_result"
    }
   ],
   "source": [
    "  os.listdir(os.getcwd())    #cwd: current working directory"
   ]
  },
  {
   "cell_type": "markdown",
   "id": "86bccc4b",
   "metadata": {},
   "source": [
    "# File I/O"
   ]
  },
  {
   "cell_type": "markdown",
   "id": "21f4cdc6",
   "metadata": {},
   "source": [
    "File operations takes place in order:\n",
    "1. opening a file\n",
    "2. read or write a file (performing operations)\n",
    "3. close the file"
   ]
  },
  {
   "cell_type": "markdown",
   "id": "922198fb",
   "metadata": {},
   "source": [
    "###### 1. open a file in python  ||  2. close() a file in python || 3. open() and close() safely  \n"
   ]
  },
  {
   "cell_type": "code",
   "execution_count": 3,
   "id": "3c32f755",
   "metadata": {},
   "outputs": [],
   "source": [
    "f = open(\"test.txt\")          #equvlt:  to 'r' or 'rt'  Bydefault\n",
    "f = open(\"test.txt\", 'w')     #write in text mode  || if not av availble it create a file on it's own\n",
    "f = open(\"test.txt\", 'r+b')   #read and write in binary"
   ]
  },
  {
   "cell_type": "code",
   "execution_count": 4,
   "id": "1683147d",
   "metadata": {},
   "outputs": [],
   "source": [
    "f = open(\"test.txt\", 'r', encoding='utf-8')      \n",
    "f.close()"
   ]
  },
  {
   "cell_type": "code",
   "execution_count": 5,
   "id": "5d8f89b5",
   "metadata": {},
   "outputs": [],
   "source": [
    "#SAFE and ELEGENT way to handle a file is to use try and finally block ie.\n",
    "try:\n",
    "    f= open(\"test.txt\", encoding = 'utf-8' )\n",
    "    #-------------------------\n",
    "    #-----perform operations--\n",
    "finally:\n",
    "    f.close()"
   ]
  },
  {
   "cell_type": "markdown",
   "id": "c20ac603",
   "metadata": {},
   "source": [
    "###### Writing to files in python"
   ]
  },
  {
   "cell_type": "code",
   "execution_count": 6,
   "id": "178bf4fb",
   "metadata": {},
   "outputs": [],
   "source": [
    "try:                                   #try and finally block is not necessary\n",
    "    nf = open(\"Faizan.txt\", 'w')      #'w' mode create new file if not existed \n",
    "    nf.write(\"Can I be a billionire\\n\")\n",
    "    nf.write(\"this file\\n\")\n",
    "    nf.write(\"contains 3 lines\\n\")\n",
    "finally:\n",
    "    nf.close()"
   ]
  },
  {
   "cell_type": "code",
   "execution_count": 28,
   "id": "0d2c8f2e",
   "metadata": {},
   "outputs": [
    {
     "data": {
      "text/plain": [
       "'Can I be a billionire\\n'"
      ]
     },
     "execution_count": 28,
     "metadata": {},
     "output_type": "execute_result"
    }
   ],
   "source": [
    "nnf = open(\"Faizan.txt\", 'r')    #nff is name of opended file in python\n",
    "nnf.read(4)\n",
    "nnf.read(7)\n",
    "nnf.readline(2)\n",
    "nnf.readline()\n",
    "nnf.seek(0)\n",
    "nnf.readline()        \n",
    "\n",
    "#start commenting out from down and run the code\n"
   ]
  },
  {
   "cell_type": "markdown",
   "id": "ea35590d",
   "metadata": {},
   "source": [
    "# -\n",
    "\n",
    "# -"
   ]
  },
  {
   "cell_type": "markdown",
   "id": "4fb3c3ee",
   "metadata": {},
   "source": [
    "# Exception Handling"
   ]
  },
  {
   "cell_type": "code",
   "execution_count": 8,
   "id": "db7b408c",
   "metadata": {},
   "outputs": [
    {
     "ename": "SyntaxError",
     "evalue": "invalid syntax (<ipython-input-8-374666956a47>, line 1)",
     "output_type": "error",
     "traceback": [
      "\u001b[1;36m  File \u001b[1;32m\"<ipython-input-8-374666956a47>\"\u001b[1;36m, line \u001b[1;32m1\u001b[0m\n\u001b[1;33m    if a <5\u001b[0m\n\u001b[1;37m           ^\u001b[0m\n\u001b[1;31mSyntaxError\u001b[0m\u001b[1;31m:\u001b[0m invalid syntax\n"
     ]
    }
   ],
   "source": [
    "if a <5"
   ]
  },
  {
   "cell_type": "code",
   "execution_count": null,
   "id": "f1840def",
   "metadata": {},
   "outputs": [],
   "source": [
    "open('test.txt')"
   ]
  },
  {
   "cell_type": "code",
   "execution_count": null,
   "id": "d763aa88",
   "metadata": {},
   "outputs": [],
   "source": [
    "dir(__builtins__)     #prints all type of error in python"
   ]
  },
  {
   "cell_type": "markdown",
   "id": "6493ec53",
   "metadata": {},
   "source": [
    "##### # SYS  Module: to get the type of execption"
   ]
  },
  {
   "cell_type": "code",
   "execution_count": null,
   "id": "e11c209a",
   "metadata": {},
   "outputs": [],
   "source": [
    "#import module sys to get the type of execption\n",
    "import sys\n",
    "list5= [3,4,'a', 0, 5]\n",
    "for entry in list5:\n",
    "    try:\n",
    "        print(\"The entry is\",entry)\n",
    "        r=1/int(entry)\n",
    "        \n",
    "    except:\n",
    "        print(\"Oops!\", sys.exc_info()[0], \"occured.\")\n",
    "        print(\"Next entry\")\n",
    "        print(\"*************************\")\n",
    "print(\"reciprocal of\", entry, \"is\", r)"
   ]
  },
  {
   "cell_type": "code",
   "execution_count": null,
   "id": "38f152fd",
   "metadata": {},
   "outputs": [],
   "source": [
    "#Catching Multiple exception in python....like this! \n",
    "# Best practice of writing code \n",
    "import sys\n",
    "list6= ['d',0,6]\n",
    "\n",
    "for entry in list6:\n",
    "    try:\n",
    "        print(\"The entry is\", entry)\n",
    "        r= 1/int(entry)\n",
    "        \n",
    "    except(ValueError):\n",
    "        print(\"This is valueError\")\n",
    "    except(ZeroDivisionError):\n",
    "        print(\"This is ZeroDivisionError\")\n",
    "    except:\n",
    "        print(\"This is some other error\")\n",
    "        \n",
    "print(\"The reciprocal of\", entry, \"is:\",r)\n"
   ]
  },
  {
   "cell_type": "markdown",
   "id": "23386c9b",
   "metadata": {},
   "source": [
    "##### Raising Expetion in Python:       raise"
   ]
  },
  {
   "cell_type": "code",
   "execution_count": null,
   "id": "be1224ff",
   "metadata": {},
   "outputs": [],
   "source": [
    "raise KeyboardInterrupt"
   ]
  },
  {
   "cell_type": "code",
   "execution_count": null,
   "id": "76ff1809",
   "metadata": {},
   "outputs": [],
   "source": [
    "#lets suppose you're running on memory and just wantto run limited code\n",
    "\n",
    "raise MemoryError(\"This is memoryError\")"
   ]
  },
  {
   "cell_type": "code",
   "execution_count": null,
   "id": "8086202c",
   "metadata": {},
   "outputs": [],
   "source": [
    "#suppose I want someone to enter only postive integer\n",
    "try:\n",
    "    num = int(input(\"Enter the Value of a postive Enteger:  \"))\n",
    "    if num<0:\n",
    "        raise ValueError(\"Error: This is a negative number\")\n",
    "except ValueError as e:\n",
    "    print(e)"
   ]
  },
  {
   "cell_type": "markdown",
   "id": "d104d99f",
   "metadata": {},
   "source": [
    "### try...finally"
   ]
  },
  {
   "cell_type": "code",
   "execution_count": null,
   "id": "c1a4580e",
   "metadata": {},
   "outputs": [],
   "source": [
    "try:\n",
    "    newfile= open(\"checkfile.txt\", 'w')\n",
    "    newfile.write(\"Qujick Learning is an art\\n\")\n",
    "    newfile.write(\"not evryone have guts to discover is\\n\")\n",
    "    newfile.write(\"Be execptional billionire with your hardwork\")\n",
    "finally:\n",
    "    newfile.close()"
   ]
  },
  {
   "cell_type": "code",
   "execution_count": 30,
   "id": "97e5d27c",
   "metadata": {},
   "outputs": [
    {
     "data": {
      "text/plain": [
       "'Qujick Learning is an art\\n'"
      ]
     },
     "execution_count": 30,
     "metadata": {},
     "output_type": "execute_result"
    }
   ],
   "source": [
    "newfile = open(\"checkfile.txt\",'r')\n",
    "newfile.read(4)\n",
    "newfile.seek(0)\n",
    "newfile.readline()\n",
    "\n",
    "#dont use try and finally: here it won' work"
   ]
  }
 ],
 "metadata": {
  "kernelspec": {
   "display_name": "Python 3",
   "language": "python",
   "name": "python3"
  },
  "language_info": {
   "codemirror_mode": {
    "name": "ipython",
    "version": 3
   },
   "file_extension": ".py",
   "mimetype": "text/x-python",
   "name": "python",
   "nbconvert_exporter": "python",
   "pygments_lexer": "ipython3",
   "version": "3.8.8"
  }
 },
 "nbformat": 4,
 "nbformat_minor": 5
}
