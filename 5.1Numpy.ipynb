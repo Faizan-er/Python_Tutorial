{
 "cells": [
  {
   "cell_type": "markdown",
   "id": "1f4c6798",
   "metadata": {},
   "source": [
    "# 5.1 Python Numpy"
   ]
  },
  {
   "cell_type": "markdown",
   "id": "a4fe01ce",
   "metadata": {},
   "source": [
    "- Numpy is a general-purpose array-processing package. \n",
    "- It provides a high-performance multidimensional array object,  and tools for working with these arrays. \n",
    "- It is the fundamental package for scientific computing (like Physics, Data Science, Computer-graphics etc)\n",
    "- It's used in many scientifc area like PHYSICS, Mathematics etc"
   ]
  },
  {
   "cell_type": "markdown",
   "id": "32ad38bc",
   "metadata": {},
   "source": [
    "#### NumPy Arrays"
   ]
  },
  {
   "cell_type": "markdown",
   "id": "cab6f212",
   "metadata": {},
   "source": [
    "##### python objects\n",
    "1. high-level number objects: integers, floating point\n",
    "2. container: list(costless insertion and append), dictnaries(fast lockup)\n",
    "\n",
    "###### Numpy (aka: array oriented computing) provides:\n",
    "1. Extension packages for: Multidimesional array\n",
    "2. closer to hardware(efficiency)\n",
    "3. designed for scientific calculation"
   ]
  },
  {
   "cell_type": "code",
   "execution_count": 1,
   "id": "27cf1970",
   "metadata": {},
   "outputs": [
    {
     "name": "stdout",
     "output_type": "stream",
     "text": [
      "[0 1 2 3]\n",
      "[0 1 2 3 4 5]\n"
     ]
    }
   ],
   "source": [
    "#Two simple way to create an arrray \n",
    "\n",
    "import numpy as np\n",
    "\n",
    "#first one\n",
    "a = np.array([0,1,2,3])\n",
    "print(a)\n",
    "\n",
    "#Second one\n",
    "print(np.arange(6))\n"
   ]
  },
  {
   "cell_type": "markdown",
   "id": "ef19649b",
   "metadata": {},
   "source": [
    "#### why Numpy?:  It's Super fast baby!! look here"
   ]
  },
  {
   "cell_type": "code",
   "execution_count": 2,
   "id": "913d72b4",
   "metadata": {},
   "outputs": [
    {
     "name": "stdout",
     "output_type": "stream",
     "text": [
      "range(0, 1000)\n",
      "228 µs ± 18.5 µs per loop (mean ± std. dev. of 7 runs, 1000 loops each)\n"
     ]
    }
   ],
   "source": [
    "#python list\n",
    "L = range(1000)                       #L = [0,1,2,....,999]\n",
    "print(L)\n",
    "%timeit [i**2 for i in L]"
   ]
  },
  {
   "cell_type": "code",
   "execution_count": 75,
   "id": "0904132b",
   "metadata": {},
   "outputs": [
    {
     "name": "stdout",
     "output_type": "stream",
     "text": [
      "1.54 µs ± 138 ns per loop (mean ± std. dev. of 7 runs, 1000000 loops each)\n"
     ]
    }
   ],
   "source": [
    "#NumPy \n",
    "a = np.arange(1000)\n",
    "print(a)\n",
    "a.ndim\n",
    "%timeit a**2    "
   ]
  },
  {
   "cell_type": "markdown",
   "id": "9fc213f9",
   "metadata": {},
   "source": [
    "# --"
   ]
  },
  {
   "cell_type": "markdown",
   "id": "422a8e36",
   "metadata": {},
   "source": [
    "# 1. CREATING ARRAYS"
   ]
  },
  {
   "cell_type": "markdown",
   "id": "30717c34",
   "metadata": {},
   "source": [
    "##### 1.1 Manual construction of array"
   ]
  },
  {
   "cell_type": "code",
   "execution_count": 4,
   "id": "9c1a424d",
   "metadata": {},
   "outputs": [
    {
     "data": {
      "text/plain": [
       "array([0, 1, 2, 2])"
      ]
     },
     "execution_count": 4,
     "metadata": {},
     "output_type": "execute_result"
    }
   ],
   "source": [
    "#1-D  (called Vector)\n",
    "\n",
    "a = np.array([0,1,2,2])\n",
    "\n",
    "a"
   ]
  },
  {
   "cell_type": "code",
   "execution_count": 5,
   "id": "75bff229",
   "metadata": {},
   "outputs": [
    {
     "data": {
      "text/plain": [
       "1"
      ]
     },
     "execution_count": 5,
     "metadata": {},
     "output_type": "execute_result"
    }
   ],
   "source": [
    "#print Dimension\n",
    "a.ndim\n"
   ]
  },
  {
   "cell_type": "code",
   "execution_count": 6,
   "id": "5dc133aa",
   "metadata": {},
   "outputs": [
    {
     "data": {
      "text/plain": [
       "(4,)"
      ]
     },
     "execution_count": 6,
     "metadata": {},
     "output_type": "execute_result"
    }
   ],
   "source": [
    "a.shape"
   ]
  },
  {
   "cell_type": "code",
   "execution_count": 7,
   "id": "2ff8aa4b",
   "metadata": {},
   "outputs": [
    {
     "data": {
      "text/plain": [
       "4"
      ]
     },
     "execution_count": 7,
     "metadata": {},
     "output_type": "execute_result"
    }
   ],
   "source": [
    "a.size"
   ]
  },
  {
   "cell_type": "code",
   "execution_count": 8,
   "id": "2ae96901",
   "metadata": {},
   "outputs": [
    {
     "data": {
      "text/plain": [
       "array([[0, 1, 2],\n",
       "       [3, 4, 5]])"
      ]
     },
     "execution_count": 8,
     "metadata": {},
     "output_type": "execute_result"
    }
   ],
   "source": [
    "#2-d  (Matrix) , 3-d ,...(tensor)\n",
    "\n",
    "b= np.array([[0,1,2],[3,4,5]])\n",
    "b"
   ]
  },
  {
   "cell_type": "code",
   "execution_count": 9,
   "id": "f3b9ad3b",
   "metadata": {},
   "outputs": [
    {
     "data": {
      "text/plain": [
       "2"
      ]
     },
     "execution_count": 9,
     "metadata": {},
     "output_type": "execute_result"
    }
   ],
   "source": [
    "b.ndim"
   ]
  },
  {
   "cell_type": "code",
   "execution_count": 10,
   "id": "dff842f6",
   "metadata": {},
   "outputs": [
    {
     "data": {
      "text/plain": [
       "(2, 3)"
      ]
     },
     "execution_count": 10,
     "metadata": {},
     "output_type": "execute_result"
    }
   ],
   "source": [
    "b.shape"
   ]
  },
  {
   "cell_type": "code",
   "execution_count": 11,
   "id": "207ff6fc",
   "metadata": {},
   "outputs": [
    {
     "data": {
      "text/plain": [
       "6"
      ]
     },
     "execution_count": 11,
     "metadata": {},
     "output_type": "execute_result"
    }
   ],
   "source": [
    "b.size"
   ]
  },
  {
   "cell_type": "code",
   "execution_count": 12,
   "id": "2bcdc49f",
   "metadata": {},
   "outputs": [
    {
     "data": {
      "text/plain": [
       "2"
      ]
     },
     "execution_count": 12,
     "metadata": {},
     "output_type": "execute_result"
    }
   ],
   "source": [
    "len(b)    #return the size of first dimesion"
   ]
  },
  {
   "cell_type": "code",
   "execution_count": 13,
   "id": "610bd190",
   "metadata": {},
   "outputs": [
    {
     "data": {
      "text/plain": [
       "array([[[0, 1],\n",
       "        [2, 3],\n",
       "        [4, 5],\n",
       "        [6, 7]]])"
      ]
     },
     "execution_count": 13,
     "metadata": {},
     "output_type": "execute_result"
    }
   ],
   "source": [
    "c = np.array([[[0,1],[2,3],[4,5],[6,7]]])\n",
    "c\n",
    "            "
   ]
  },
  {
   "cell_type": "code",
   "execution_count": 14,
   "id": "5faf96b4",
   "metadata": {},
   "outputs": [
    {
     "data": {
      "text/plain": [
       "3"
      ]
     },
     "execution_count": 14,
     "metadata": {},
     "output_type": "execute_result"
    }
   ],
   "source": [
    "c.ndim"
   ]
  },
  {
   "cell_type": "code",
   "execution_count": 15,
   "id": "e08b11b3",
   "metadata": {},
   "outputs": [
    {
     "data": {
      "text/plain": [
       "8"
      ]
     },
     "execution_count": 15,
     "metadata": {},
     "output_type": "execute_result"
    }
   ],
   "source": [
    "c.size"
   ]
  },
  {
   "cell_type": "code",
   "execution_count": 16,
   "id": "6a49809a",
   "metadata": {},
   "outputs": [
    {
     "data": {
      "text/plain": [
       "(1, 4, 2)"
      ]
     },
     "execution_count": 16,
     "metadata": {},
     "output_type": "execute_result"
    }
   ],
   "source": [
    "c.shape"
   ]
  },
  {
   "cell_type": "markdown",
   "id": "839734de",
   "metadata": {},
   "source": [
    "###### Note\n",
    "\n",
    "##### 1D array---> Vector\n",
    "##### 2D array---> Matrix\n",
    "##### nD array---> Tensor\n",
    "- Tensorflow is somewhats related to tensor"
   ]
  },
  {
   "cell_type": "markdown",
   "id": "cd05cd67",
   "metadata": {},
   "source": [
    "### 1.2 Function for creating arrays"
   ]
  },
  {
   "cell_type": "code",
   "execution_count": 17,
   "id": "a42b90a1",
   "metadata": {},
   "outputs": [
    {
     "data": {
      "text/plain": [
       "array([0, 1, 2, 3, 4, 5, 6, 7, 8, 9])"
      ]
     },
     "execution_count": 17,
     "metadata": {},
     "output_type": "execute_result"
    }
   ],
   "source": [
    "# using arange function      : an array-valued verson of python range function\n",
    "\n",
    "a= np.arange(10)\n",
    "a"
   ]
  },
  {
   "cell_type": "code",
   "execution_count": 18,
   "id": "bdedfd0d",
   "metadata": {},
   "outputs": [
    {
     "data": {
      "text/plain": [
       "array([ 1,  3,  5,  7,  9, 11, 13, 15, 17, 19])"
      ]
     },
     "execution_count": 18,
     "metadata": {},
     "output_type": "execute_result"
    }
   ],
   "source": [
    "b = np.arange(1,20,2)       #(start, stop, stepsize)\n",
    "b"
   ]
  },
  {
   "cell_type": "code",
   "execution_count": 19,
   "id": "05d58a6e",
   "metadata": {},
   "outputs": [
    {
     "data": {
      "text/plain": [
       "array([0. , 0.2, 0.4, 0.6, 0.8, 1. ])"
      ]
     },
     "execution_count": 19,
     "metadata": {},
     "output_type": "execute_result"
    }
   ],
   "source": [
    "#using linspace\n",
    "\n",
    "a = np.linspace(0,1,6)      #(start,  stop  ,  no of points)\n",
    "a"
   ]
  },
  {
   "cell_type": "markdown",
   "id": "af9f439b",
   "metadata": {},
   "source": [
    "#### common array\n",
    "- Identity\n",
    "- zeros\n",
    "- ones..etc"
   ]
  },
  {
   "cell_type": "code",
   "execution_count": 20,
   "id": "34a40da7",
   "metadata": {},
   "outputs": [
    {
     "data": {
      "text/plain": [
       "array([[1., 1., 1.],\n",
       "       [1., 1., 1.],\n",
       "       [1., 1., 1.]])"
      ]
     },
     "execution_count": 20,
     "metadata": {},
     "output_type": "execute_result"
    }
   ],
   "source": [
    "#common array\n",
    "\n",
    "x= np.ones((3,3))\n",
    "x"
   ]
  },
  {
   "cell_type": "code",
   "execution_count": 21,
   "id": "2b0208ff",
   "metadata": {},
   "outputs": [
    {
     "data": {
      "text/plain": [
       "array([[0., 0., 0., 0.],\n",
       "       [0., 0., 0., 0.],\n",
       "       [0., 0., 0., 0.],\n",
       "       [0., 0., 0., 0.]])"
      ]
     },
     "execution_count": 21,
     "metadata": {},
     "output_type": "execute_result"
    }
   ],
   "source": [
    "#lly\n",
    "y= np.zeros((4,4))\n",
    "y"
   ]
  },
  {
   "cell_type": "code",
   "execution_count": 22,
   "id": "ec613b4e",
   "metadata": {},
   "outputs": [
    {
     "data": {
      "text/plain": [
       "array([[1., 0., 0.],\n",
       "       [0., 1., 0.],\n",
       "       [0., 0., 1.]])"
      ]
     },
     "execution_count": 22,
     "metadata": {},
     "output_type": "execute_result"
    }
   ],
   "source": [
    "np.eye(3)"
   ]
  },
  {
   "cell_type": "code",
   "execution_count": 23,
   "id": "e0c903a8",
   "metadata": {},
   "outputs": [
    {
     "data": {
      "text/plain": [
       "array([[1., 0.],\n",
       "       [0., 1.],\n",
       "       [0., 0.]])"
      ]
     },
     "execution_count": 23,
     "metadata": {},
     "output_type": "execute_result"
    }
   ],
   "source": [
    "z= np.eye(3,2)\n",
    "z"
   ]
  },
  {
   "cell_type": "code",
   "execution_count": 24,
   "id": "a175e078",
   "metadata": {},
   "outputs": [
    {
     "data": {
      "text/plain": [
       "array([[  2,   0,   0,   0,   0,   0,   0],\n",
       "       [  0,   4,   0,   0,   0,   0,   0],\n",
       "       [  0,   0, 333,   0,   0,   0,   0],\n",
       "       [  0,   0,   0,   4,   0,   0,   0],\n",
       "       [  0,   0,   0,   0,   4,   0,   0],\n",
       "       [  0,   0,   0,   0,   0,   4,   0],\n",
       "       [  0,   0,   0,   0,   0,   0,   4]])"
      ]
     },
     "execution_count": 24,
     "metadata": {},
     "output_type": "execute_result"
    }
   ],
   "source": [
    "# Creating matrix using diag  function\n",
    "\n",
    "m = np.diag([2,4,333,4,4,4,4])\n",
    "m"
   ]
  },
  {
   "cell_type": "code",
   "execution_count": 25,
   "id": "8ed084ff",
   "metadata": {},
   "outputs": [
    {
     "data": {
      "text/plain": [
       "array([  2,   4, 333,   4,   4,   4,   4])"
      ]
     },
     "execution_count": 25,
     "metadata": {},
     "output_type": "execute_result"
    }
   ],
   "source": [
    "np.diag(m)   #prining the diagnal"
   ]
  },
  {
   "cell_type": "code",
   "execution_count": 26,
   "id": "e0149a27",
   "metadata": {},
   "outputs": [
    {
     "data": {
      "text/plain": [
       "array([0.35554156, 0.34318316, 0.82004507, 0.53439685])"
      ]
     },
     "execution_count": 26,
     "metadata": {},
     "output_type": "execute_result"
    }
   ],
   "source": [
    "# Creating matrix using random\n",
    "\n",
    "\n",
    "q = np.random.rand(4)   \n",
    "q"
   ]
  },
  {
   "cell_type": "code",
   "execution_count": 27,
   "id": "55705921",
   "metadata": {},
   "outputs": [
    {
     "data": {
      "text/plain": [
       "array([ 1.42220173, -0.40678947, -1.27483339,  1.70969893])"
      ]
     },
     "execution_count": 27,
     "metadata": {},
     "output_type": "execute_result"
    }
   ],
   "source": [
    "k = np.random.randn(4)         #Gausion normal \n",
    "k                             #will learn in probality and statistics chapter"
   ]
  },
  {
   "cell_type": "markdown",
   "id": "8cb3fa2e",
   "metadata": {},
   "source": [
    "# --"
   ]
  },
  {
   "cell_type": "markdown",
   "id": "6a53a13a",
   "metadata": {},
   "source": [
    "# 2. Basic DataTypes"
   ]
  },
  {
   "cell_type": "code",
   "execution_count": 28,
   "id": "01c77091",
   "metadata": {},
   "outputs": [
    {
     "data": {
      "text/plain": [
       "dtype('int32')"
      ]
     },
     "execution_count": 28,
     "metadata": {},
     "output_type": "execute_result"
    }
   ],
   "source": [
    "a = np.arange(10)\n",
    "a.dtype"
   ]
  },
  {
   "cell_type": "code",
   "execution_count": 29,
   "id": "a8563601",
   "metadata": {},
   "outputs": [
    {
     "data": {
      "text/plain": [
       "dtype('float64')"
      ]
     },
     "execution_count": 29,
     "metadata": {},
     "output_type": "execute_result"
    }
   ],
   "source": [
    "# you can explicitly specify types of datatypes you want\n",
    "a = np.arange(10, dtype = 'float64')\n",
    "a.dtype"
   ]
  },
  {
   "cell_type": "code",
   "execution_count": 30,
   "id": "cdfc2652",
   "metadata": {},
   "outputs": [
    {
     "name": "stdout",
     "output_type": "stream",
     "text": [
      "[[0. 0. 0. 0.]\n",
      " [0. 0. 0. 0.]\n",
      " [0. 0. 0. 0.]\n",
      " [0. 0. 0. 0.]]\n"
     ]
    },
    {
     "data": {
      "text/plain": [
       "dtype('float64')"
      ]
     },
     "execution_count": 30,
     "metadata": {},
     "output_type": "execute_result"
    }
   ],
   "source": [
    "#Default dtype of ones and zeros is:  float \n",
    "\n",
    "s= np.zeros((4,4))\n",
    "print(s)\n",
    "s.dtype"
   ]
  },
  {
   "cell_type": "markdown",
   "id": "284c8f53",
   "metadata": {},
   "source": [
    "### other datatype"
   ]
  },
  {
   "cell_type": "code",
   "execution_count": 31,
   "id": "f6713ddf",
   "metadata": {},
   "outputs": [
    {
     "data": {
      "text/plain": [
       "dtype('complex128')"
      ]
     },
     "execution_count": 31,
     "metadata": {},
     "output_type": "execute_result"
    }
   ],
   "source": [
    "#complex datatype\n",
    "d = np.array([1+2j, 2+ 5j])   \n",
    "d.dtype"
   ]
  },
  {
   "cell_type": "code",
   "execution_count": 32,
   "id": "5e9086d2",
   "metadata": {},
   "outputs": [
    {
     "name": "stdout",
     "output_type": "stream",
     "text": [
      "[ True False False False  True]\n"
     ]
    },
    {
     "data": {
      "text/plain": [
       "dtype('bool')"
      ]
     },
     "execution_count": 32,
     "metadata": {},
     "output_type": "execute_result"
    }
   ],
   "source": [
    "#Boolean datatype\n",
    "\n",
    "b = np.array([True,False,False, False, True ])\n",
    "print(b)\n",
    "b.dtype"
   ]
  },
  {
   "cell_type": "code",
   "execution_count": 33,
   "id": "eddea4e7",
   "metadata": {},
   "outputs": [
    {
     "name": "stdout",
     "output_type": "stream",
     "text": [
      "['Faizan' 'Imran' 'Rizwan']\n"
     ]
    },
    {
     "data": {
      "text/plain": [
       "dtype('<U6')"
      ]
     },
     "execution_count": 33,
     "metadata": {},
     "output_type": "execute_result"
    }
   ],
   "source": [
    "# string datatype\n",
    "s = np.array(['Faizan', 'Imran', 'Rizwan'])\n",
    "print(s)\n",
    "s.dtype"
   ]
  },
  {
   "cell_type": "markdown",
   "id": "30ad5e8c",
   "metadata": {},
   "source": [
    "# --"
   ]
  },
  {
   "cell_type": "markdown",
   "id": "4333e69d",
   "metadata": {},
   "source": [
    "# 3. Indexing and Slicing"
   ]
  },
  {
   "cell_type": "markdown",
   "id": "ab4b9cd5",
   "metadata": {},
   "source": [
    "#### 3.1 Indexing"
   ]
  },
  {
   "cell_type": "markdown",
   "id": "f34e514e",
   "metadata": {},
   "source": [
    "The items of an array can be accessed and assigned to the same way as python sequences\n",
    "(eg. list)"
   ]
  },
  {
   "cell_type": "code",
   "execution_count": 34,
   "id": "1b3e7309",
   "metadata": {},
   "outputs": [
    {
     "name": "stdout",
     "output_type": "stream",
     "text": [
      "9\n"
     ]
    }
   ],
   "source": [
    "e = np.arange(1,10, 2)\n",
    "\n",
    "print(e[4])"
   ]
  },
  {
   "cell_type": "code",
   "execution_count": 35,
   "id": "9e14aaba",
   "metadata": {},
   "outputs": [
    {
     "name": "stdout",
     "output_type": "stream",
     "text": [
      "4\n",
      "[[2 0 0 0 0 0]\n",
      " [0 3 0 0 0 0]\n",
      " [0 0 4 0 0 0]\n",
      " [0 0 0 5 0 0]\n",
      " [0 0 0 0 6 0]\n",
      " [0 0 0 0 0 7]]\n"
     ]
    }
   ],
   "source": [
    "# for multidimensional arrays, indexes are tuples of integrs:\n",
    "a = np.diag([2,3,4,5,6,7])\n",
    "print(a[2,2])\n",
    "print(a)\n"
   ]
  },
  {
   "cell_type": "code",
   "execution_count": 36,
   "id": "14c597ac",
   "metadata": {},
   "outputs": [
    {
     "name": "stdout",
     "output_type": "stream",
     "text": [
      "[[     2      0      0      0      0      0]\n",
      " [     0      3      0      0      0      0]\n",
      " [     0      0 400000      0      0      0]\n",
      " [     0      0      0      5      0      0]\n",
      " [     0      0      0      0      6      0]\n",
      " [     0      0      0      0      0      7]]\n"
     ]
    }
   ],
   "source": [
    "#assigning values:\n",
    "a[2,2] = 400000\n",
    "print(a)"
   ]
  },
  {
   "cell_type": "markdown",
   "id": "54fb2c17",
   "metadata": {},
   "source": [
    "### 3.2 Slicing"
   ]
  },
  {
   "cell_type": "code",
   "execution_count": 37,
   "id": "ad44d6b6",
   "metadata": {},
   "outputs": [
    {
     "name": "stdout",
     "output_type": "stream",
     "text": [
      "[7 9]\n"
     ]
    }
   ],
   "source": [
    "u = np.arange(1,20,2)\n",
    "print(u[3:5])"
   ]
  },
  {
   "cell_type": "code",
   "execution_count": 38,
   "id": "189abe2e",
   "metadata": {},
   "outputs": [
    {
     "name": "stdout",
     "output_type": "stream",
     "text": [
      "[0 1 2 3 4 5 6 7 8 9]\n"
     ]
    },
    {
     "data": {
      "text/plain": [
       "array([1, 3, 5, 7])"
      ]
     },
     "execution_count": 38,
     "metadata": {},
     "output_type": "execute_result"
    }
   ],
   "source": [
    "f = np.arange(10)               #example2\n",
    "print(f)\n",
    "\n",
    "f[1:8:2]          # [ startindex:   endindex(exclusive) : steps)"
   ]
  },
  {
   "cell_type": "code",
   "execution_count": 39,
   "id": "6500e843",
   "metadata": {},
   "outputs": [
    {
     "name": "stdout",
     "output_type": "stream",
     "text": [
      "[0 1 2 3 4 5 6 7 8 9]\n",
      "[   0    1    2    3    4 1000 1000 1000 1000 1000]\n"
     ]
    }
   ],
   "source": [
    "# we can also combine assignmnet and slicing:\n",
    "\n",
    "a = np.arange(10)\n",
    "print(a)\n",
    "\n",
    "a[5:] = 1000\n",
    "print(a)"
   ]
  },
  {
   "cell_type": "code",
   "execution_count": 45,
   "id": "b6fe39ea",
   "metadata": {},
   "outputs": [
    {
     "data": {
      "text/plain": [
       "array([0, 1, 2, 3, 4, 4, 3, 2, 1, 0])"
      ]
     },
     "execution_count": 45,
     "metadata": {},
     "output_type": "execute_result"
    }
   ],
   "source": [
    "b = np.arange(5)\n",
    "a[5:]= b[::-1]       #-1 : steping reverse order  #we used uperwala  a\n",
    "a"
   ]
  },
  {
   "cell_type": "markdown",
   "id": "b757107f",
   "metadata": {},
   "source": [
    "# --"
   ]
  },
  {
   "cell_type": "markdown",
   "id": "973f05cc",
   "metadata": {},
   "source": [
    "# 4. Copies and Views"
   ]
  },
  {
   "cell_type": "code",
   "execution_count": 57,
   "id": "79d6ce10",
   "metadata": {},
   "outputs": [
    {
     "data": {
      "text/plain": [
       "array([0, 2, 4, 6, 8])"
      ]
     },
     "execution_count": 57,
     "metadata": {},
     "output_type": "execute_result"
    }
   ],
   "source": [
    "ab = np.arange(10)\n",
    "\n",
    "c = ab[::2]\n",
    "c"
   ]
  },
  {
   "cell_type": "code",
   "execution_count": 58,
   "id": "041bc365",
   "metadata": {},
   "outputs": [
    {
     "name": "stdout",
     "output_type": "stream",
     "text": [
      "[0 1 2 3 4 5 6 7 8 9]\n"
     ]
    },
    {
     "data": {
      "text/plain": [
       "False"
      ]
     },
     "execution_count": 58,
     "metadata": {},
     "output_type": "execute_result"
    }
   ],
   "source": [
    "c[0] =10\n",
    "print(ab)\n",
    "np.shares_memory(ab,c)"
   ]
  },
  {
   "cell_type": "code",
   "execution_count": 60,
   "id": "452a4018",
   "metadata": {},
   "outputs": [
    {
     "name": "stdout",
     "output_type": "stream",
     "text": [
      "[0 2 4 6 8]\n"
     ]
    }
   ],
   "source": [
    "# using copy :  same code only added \n",
    "ab = np.arange(10)\n",
    "\n",
    "c = ab[::2].copy()     #  .copy()   forcing\n",
    "print(c)\n"
   ]
  },
  {
   "cell_type": "code",
   "execution_count": 61,
   "id": "b225e028",
   "metadata": {},
   "outputs": [
    {
     "name": "stdout",
     "output_type": "stream",
     "text": [
      "[0 1 2 3 4 5 6 7 8 9]\n"
     ]
    },
    {
     "data": {
      "text/plain": [
       "False"
      ]
     },
     "execution_count": 61,
     "metadata": {},
     "output_type": "execute_result"
    }
   ],
   "source": [
    "c[0] =10\n",
    "print(ab)    #will remain same\n",
    "np.shares_memory(ab,c)"
   ]
  },
  {
   "cell_type": "markdown",
   "id": "fe265e58",
   "metadata": {},
   "source": [
    "# --"
   ]
  },
  {
   "cell_type": "markdown",
   "id": "f7c011cb",
   "metadata": {},
   "source": [
    "# 5. Fancy Indexing"
   ]
  },
  {
   "cell_type": "code",
   "execution_count": 62,
   "id": "7794c6a0",
   "metadata": {},
   "outputs": [
    {
     "data": {
      "text/plain": [
       "array([ 9,  6, 16,  5,  0,  2, 16,  0,  8, 14,  1, 17,  2, 19, 12])"
      ]
     },
     "execution_count": 62,
     "metadata": {},
     "output_type": "execute_result"
    }
   ],
   "source": [
    "a = np.random.randint(0,20,15)        #(start:  end  :  quantity)\n",
    "a"
   ]
  },
  {
   "cell_type": "code",
   "execution_count": 66,
   "id": "3cb52e17",
   "metadata": {},
   "outputs": [
    {
     "data": {
      "text/plain": [
       "array([-400, -400, -400, -400, -400, -400, -400, -400, -400, -400])"
      ]
     },
     "execution_count": 66,
     "metadata": {},
     "output_type": "execute_result"
    }
   ],
   "source": [
    "mask = (a%2==0)\n",
    "b = a[mask]       #we can ceate a subset using    a[mask]\n",
    "b"
   ]
  },
  {
   "cell_type": "markdown",
   "id": "cd3e414c",
   "metadata": {},
   "source": [
    "###### indexing with mask  can be very usefull to assign value to a sub array:"
   ]
  },
  {
   "cell_type": "code",
   "execution_count": 70,
   "id": "61118586",
   "metadata": {},
   "outputs": [
    {
     "name": "stdout",
     "output_type": "stream",
     "text": [
      "[   9 -400 -400    5 -400 -400 -400 -400 -400 -400    1   17 -400   19\n",
      " -400]\n"
     ]
    }
   ],
   "source": [
    "a[mask]= -400      #it will substitute -400 everyindex where mask operates\n",
    "print(a)"
   ]
  },
  {
   "cell_type": "markdown",
   "id": "c7fd1c6d",
   "metadata": {},
   "source": [
    "##### indexing with an array of integer "
   ]
  },
  {
   "cell_type": "code",
   "execution_count": 72,
   "id": "d0339966",
   "metadata": {},
   "outputs": [
    {
     "name": "stdout",
     "output_type": "stream",
     "text": [
      "[ 0 10 20 30 40 50 60 70 80 90]\n"
     ]
    }
   ],
   "source": [
    " g = np.arange(0,100,10)\n",
    "print(g)"
   ]
  },
  {
   "cell_type": "code",
   "execution_count": 73,
   "id": "41d9b24e",
   "metadata": {},
   "outputs": [
    {
     "name": "stdout",
     "output_type": "stream",
     "text": [
      "[20 30 20 40 20]\n"
     ]
    }
   ],
   "source": [
    "h = g[[2,3,2,4,2]]\n",
    "print(h)"
   ]
  },
  {
   "cell_type": "code",
   "execution_count": 74,
   "id": "2e0be32c",
   "metadata": {},
   "outputs": [
    {
     "data": {
      "text/plain": [
       "array([ 0, 10, 20, 30, 40, 50, 60, -3, 80, -3])"
      ]
     },
     "execution_count": 74,
     "metadata": {},
     "output_type": "execute_result"
    }
   ],
   "source": [
    "# new value can be assigned \n",
    "\n",
    "g[[9,7]] = -3\n",
    "g"
   ]
  },
  {
   "cell_type": "markdown",
   "id": "444428c4",
   "metadata": {},
   "source": [
    "# --"
   ]
  },
  {
   "cell_type": "markdown",
   "id": "0cc3c2f6",
   "metadata": {},
   "source": [
    "#### Quick Recap\n",
    "- contents \n",
    "1. creating an array\n",
    "2. Basic DataTypes\n",
    "3. Indexing and slicing\n",
    "4. copy and view\n",
    "5. Fancy indexing and using    [mask]"
   ]
  }
 ],
 "metadata": {
  "kernelspec": {
   "display_name": "Python 3 (ipykernel)",
   "language": "python",
   "name": "python3"
  },
  "language_info": {
   "codemirror_mode": {
    "name": "ipython",
    "version": 3
   },
   "file_extension": ".py",
   "mimetype": "text/x-python",
   "name": "python",
   "nbconvert_exporter": "python",
   "pygments_lexer": "ipython3",
   "version": "3.9.12"
  }
 },
 "nbformat": 4,
 "nbformat_minor": 5
}
