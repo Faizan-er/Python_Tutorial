{
 "cells": [
  {
   "cell_type": "markdown",
   "id": "5dbd5a60",
   "metadata": {},
   "source": [
    "# 1 Learning Applied AI Course in Short\n",
    "- Learning on basis of application first\n",
    "- then final regressive revision "
   ]
  },
  {
   "cell_type": "markdown",
   "id": "fde7e396",
   "metadata": {},
   "source": [
    "# Genral python Execise\n",
    "-watching, reffring and exercising in notebook"
   ]
  },
  {
   "cell_type": "code",
   "execution_count": 1,
   "id": "59b4091d",
   "metadata": {},
   "outputs": [
    {
     "name": "stdout",
     "output_type": "stream",
     "text": [
      "1\n",
      "2\n",
      "3\n",
      "4\n",
      "5\n",
      "6\n",
      "7\n",
      "8\n",
      "9\n"
     ]
    }
   ],
   "source": [
    "#For loop exercise\n",
    "for i in range(1,10):\n",
    "    print(i)\n",
    "    "
   ]
  },
  {
   "cell_type": "code",
   "execution_count": 2,
   "id": "33e36ba7",
   "metadata": {},
   "outputs": [
    {
     "name": "stdout",
     "output_type": "stream",
     "text": [
      "1\n",
      "3\n",
      "5\n",
      "7\n",
      "9\n",
      "11\n",
      "13\n",
      "15\n",
      "17\n",
      "19\n",
      "0\n",
      "5\n",
      "10\n",
      "15\n",
      "5\n",
      "Faizan\n",
      "Data Engineer\n",
      "Data Scientist\n",
      "ML Engineer\n",
      "Tech Officer\n"
     ]
    }
   ],
   "source": [
    "#Here in for loop \"1\" is starting point and 20\" is range and 2\" is step-size here\n",
    "for a in range(1,20,2):\n",
    "    print(a)\n",
    "    \n",
    "#example2\n",
    "\n",
    "for b in range(0,20,5):\n",
    "    print(b)\n",
    " \n",
    "# exaple3 (try it again and Understand :)))\n",
    "\n",
    "list1 = [\"Faizan\", \"Data Engineer\", \"Data Scientist\", \"ML Engineer\", \"Tech Officer\"]\n",
    "print(len(list1))\n",
    "for c in range(len(list1)):\n",
    "    print(list1[c])\n"
   ]
  },
  {
   "cell_type": "code",
   "execution_count": 3,
   "id": "8c1ede3c",
   "metadata": {},
   "outputs": [
    {
     "name": "stdout",
     "output_type": "stream",
     "text": [
      "Faizan\n",
      "Data Engineer\n",
      "Data Scientist\n",
      "ML Engineer\n",
      "Tech Officer\n",
      "-------No more Item available in List1\n"
     ]
    }
   ],
   "source": [
    "#example4 : for loop with else \n",
    "for c in range(len(list1)):\n",
    "    print(list1[c])\n",
    "else:\n",
    "    print(\"-------No more Item available in List1\")\n"
   ]
  },
  {
   "cell_type": "markdown",
   "id": "c10f5e35",
   "metadata": {},
   "source": [
    "# #Example5: Natested for loop: :Python Program to display all the prime Number in between two integer"
   ]
  },
  {
   "cell_type": "code",
   "execution_count": 4,
   "id": "0929821a",
   "metadata": {},
   "outputs": [
    {
     "name": "stdout",
     "output_type": "stream",
     "text": [
      "Prime Number Between 10 and 20 are:  \n",
      "11\n",
      "13\n",
      "17\n",
      "19\n"
     ]
    }
   ],
   "source": [
    "Num1= 10\n",
    "Num2= 20\n",
    "print(\"Prime Number Between {0} and {1} are:  \".format(Num1,Num2))\n",
    "\n",
    "for num in range(Num1,Num2+1):\n",
    "    if num>1:\n",
    "        indicator=False;\n",
    "        \n",
    "        \n",
    "        for i in range(2,num):\n",
    "            if num%i==0:\n",
    "                indicator=True;\n",
    "        if not indicator:    #\"iF NOT\" SYNTAX IS LOGICAL OPRATOR EVALUATE THE TRUTH VALUE IF EXPRAISSION USED WITH IT IS FALSE \n",
    "            print(num);       \n",
    "            \n",
    "            \n",
    "    \n",
    "    else:\n",
    "        print(\"No prime Number found\")"
   ]
  },
  {
   "cell_type": "markdown",
   "id": "0d261f95",
   "metadata": {},
   "source": [
    "# 2.1Quick RECAP: Datatype in PYTHON"
   ]
  },
  {
   "cell_type": "markdown",
   "id": "d90b734d",
   "metadata": {},
   "source": [
    "# 1.sets\n",
    "- Unorderd data struture and Hence i.e:\n",
    "- cannot be Indexed\n",
    "- Is Mutable   (can add or remove items)\n",
    "- Gen used to perform mathmatical operations like: [union, intersection, Symmetric diffrence etc..] ]\n",
    "\n",
    "- Created using {}   || similar to dict but not have KEY-VALUE-PAIRS\n",
    "\n",
    "- dosnot ALLOW Duplictae elemnts"
   ]
  },
  {
   "cell_type": "code",
   "execution_count": 5,
   "id": "c944b74c",
   "metadata": {},
   "outputs": [
    {
     "name": "stdout",
     "output_type": "stream",
     "text": [
      "{1, 2, 3, 5, 6}\n",
      "5\n",
      "<class 'set'>\n",
      "{1, 2, 3, 'a', 'b'}\n",
      "5\n",
      "<class 'set'>\n",
      "{1, 2, 3, 99, 'a', 'b'}\n",
      "{1, 2, 3, 99, 200, 'a', 499, 'b', 'Shakeel'}\n"
     ]
    }
   ],
   "source": [
    "#Adding Elemnets to a set \n",
    "set1 = {1,2,3,3,5,5,6}\n",
    "print(set1)\n",
    "print(len(set1))\n",
    "print(type(set1))\n",
    "\n",
    "\n",
    "#-------------\n",
    "\n",
    "#We can make set from List\n",
    "set2 = set([1,2,3,\"a\",\"b\",\"a\"])\n",
    "print(set2)\n",
    "print(len(set2))\n",
    "print(type(set2))\n",
    "\n",
    "#adding Elements in Set\n",
    "set2.update({99})\n",
    "print(set2)\n",
    "\n",
    "#Adding Multiple Elements\n",
    "\n",
    "set2.update([200,\"Shakeel\",499])\n",
    "print(set2)\n"
   ]
  },
  {
   "cell_type": "markdown",
   "id": "2572071a",
   "metadata": {},
   "source": [
    "# Removing elemts from set"
   ]
  },
  {
   "cell_type": "code",
   "execution_count": 6,
   "id": "96cd3343",
   "metadata": {},
   "outputs": [
    {
     "name": "stdout",
     "output_type": "stream",
     "text": [
      "{1, 2, 3, 99, 200, 'a', 'b', 'Shakeel'}\n",
      "{1, 2, 3, 200, 'a', 'b', 'Shakeel'}\n"
     ]
    }
   ],
   "source": [
    "#A particular item can be removeed from set using methos,\n",
    "#discard() and remove()\n",
    "\n",
    "set2.discard(499)\n",
    "print(set2)\n",
    "\n",
    "#or\n",
    "\n",
    "set2.remove(99)\n",
    "print(set2)\n",
    "\n",
    "#we can remove elements using these method as well;\n",
    "#pop() and clear()"
   ]
  },
  {
   "cell_type": "code",
   "execution_count": null,
   "id": "4a3eeba9",
   "metadata": {},
   "outputs": [],
   "source": []
  }
 ],
 "metadata": {
  "kernelspec": {
   "display_name": "Python 3 (ipykernel)",
   "language": "python",
   "name": "python3"
  },
  "language_info": {
   "codemirror_mode": {
    "name": "ipython",
    "version": 3
   },
   "file_extension": ".py",
   "mimetype": "text/x-python",
   "name": "python",
   "nbconvert_exporter": "python",
   "pygments_lexer": "ipython3",
   "version": "3.9.12"
  }
 },
 "nbformat": 4,
 "nbformat_minor": 5
}
