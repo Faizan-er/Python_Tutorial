{
 "cells": [
  {
   "cell_type": "markdown",
   "id": "8f9f2dae",
   "metadata": {},
   "source": [
    "# Function in Python[Programiz]"
   ]
  },
  {
   "cell_type": "markdown",
   "id": "a60e9af9",
   "metadata": {},
   "source": [
    "#### 2.1 Fucntion Intro and operation"
   ]
  },
  {
   "cell_type": "markdown",
   "id": "f127eaa7",
   "metadata": {},
   "source": [
    "- Functions help break our program into smaller and modular chunks\n",
    "-Functions is a group of related statements that performs a specific task.\n"
   ]
  },
  {
   "cell_type": "markdown",
   "id": "9b6fac97",
   "metadata": {},
   "source": [
    "Syntax of Function\n",
    "\n",
    "def function_name(parameters):\n",
    "\t\"\"\"docstring:Describe What exactly a function does!\"\"\"\n",
    "\tstatement(s)\n",
    "    \n",
    "    \n",
    "#Parameters (arguments) through which we pass values to a function. They are optional."
   ]
  },
  {
   "cell_type": "code",
   "execution_count": 1,
   "id": "05cb3921",
   "metadata": {},
   "outputs": [
    {
     "name": "stdout",
     "output_type": "stream",
     "text": [
      "sum of all the four number is :  18\n",
      "Sum of 3, 4, 5, and 6 is : 18\n"
     ]
    }
   ],
   "source": [
    "def findsumof(a,b,c,d):\n",
    "    \"\"\"this function find of sum of four number passed through it\"\"\"\n",
    "    \n",
    "    print(\"sum of all the four number is : \",a+b+c+d)\n",
    "    print(\"Sum of {}, {}, {}, and {} is : {}\".format(a,b,c,d,a+b+c+d))\n",
    "    \n",
    "    \n",
    "findsumof(3,4,5,6)"
   ]
  },
  {
   "cell_type": "markdown",
   "id": "3195ddac",
   "metadata": {},
   "source": [
    "### 2.2 Funtion Argument"
   ]
  },
  {
   "cell_type": "markdown",
   "id": "0893a904",
   "metadata": {},
   "source": [
    "- you can define a function that takes variable number of arguments."
   ]
  },
  {
   "cell_type": "markdown",
   "id": "7a68b7b3",
   "metadata": {},
   "source": [
    "##### Example 1: Python Argument"
   ]
  },
  {
   "cell_type": "code",
   "execution_count": 2,
   "id": "4282fd98",
   "metadata": {},
   "outputs": [
    {
     "name": "stdout",
     "output_type": "stream",
     "text": [
      "Hello Monica,  Goodmorning!\n"
     ]
    }
   ],
   "source": [
    "def greet(Name, msg):\n",
    "    \"\"\"Docsstring: This funtion greet name with provided message by user\"\"\"\n",
    "    \n",
    "    print(\"Hello \"+ Name  + \",  \"+ msg)\n",
    "    \n",
    "greet(\"Monica\",  \"Goodmorning!\")"
   ]
  },
  {
   "cell_type": "markdown",
   "id": "6c4a84e5",
   "metadata": {},
   "source": [
    "##### Example 2: Python Default Argument"
   ]
  },
  {
   "cell_type": "code",
   "execution_count": 3,
   "id": "a9f0ead1",
   "metadata": {},
   "outputs": [
    {
     "name": "stdout",
     "output_type": "stream",
     "text": [
      " Hello Faizan, Welcome to the 1% community:)\n",
      " Hello Faizan, Good morning!:)\n"
     ]
    }
   ],
   "source": [
    "#Python Default Argument\n",
    "\n",
    "def greet(name, msg = \" Good morning!\"):\n",
    "    \"\"\"Greet the name with provided message and\n",
    "     \n",
    "     if message not provided then it defaults to GOOD MORNING! \"\"\"\n",
    "    \n",
    "    \n",
    "    print( \" Hello \" + name + ',' + msg + \":)\")\n",
    "    \n",
    "greet (\"Faizan\", \" Welcome to the 1% community\")\n",
    "greet (\"Faizan\")"
   ]
  },
  {
   "cell_type": "markdown",
   "id": "103e39d2",
   "metadata": {},
   "source": [
    "###### Example 3:  Arbitrary arguremnt "
   ]
  },
  {
   "cell_type": "markdown",
   "id": "9154123d",
   "metadata": {},
   "source": [
    "- we use an asterisk (*)\n",
    "-  When number of arguments that will be passed into a function is Unknown"
   ]
  },
  {
   "cell_type": "code",
   "execution_count": 4,
   "id": "f646e6db",
   "metadata": {},
   "outputs": [
    {
     "name": "stdout",
     "output_type": "stream",
     "text": [
      "hello Faizan! How are you doin ?!\n",
      "hello masood! How are you doin ?!\n",
      "hello Imad! How are you doin ?!\n",
      "hello Sameer! How are you doin ?!\n"
     ]
    }
   ],
   "source": [
    "def greet(*names):\n",
    "    \"\"\"Docsstring : This funtion greets all the person in names tuples\"\"\"\n",
    "    \n",
    "    for name in names:\n",
    "        print(\"hello \" + name + \"! How are you doin ?!\")\n",
    "        \n",
    "greet(\"Faizan\", \"masood\", \"Imad\", \"Sameer\")"
   ]
  },
  {
   "cell_type": "markdown",
   "id": "7e0ce9c8",
   "metadata": {},
   "source": [
    "## 2.3 Recursive Function in Python "
   ]
  },
  {
   "cell_type": "markdown",
   "id": "efd35847",
   "metadata": {},
   "source": [
    "- Defining something in terms of itself. \n",
    "- A Real-world example: Two parallel facing mirror \n",
    "    (object in between them would be reflected recursively)\n",
    "- function to call itself\n",
    "\n"
   ]
  },
  {
   "cell_type": "code",
   "execution_count": 5,
   "id": "3a7f655f",
   "metadata": {},
   "outputs": [
    {
     "name": "stdout",
     "output_type": "stream",
     "text": [
      "the factorial of 3 is 6\n"
     ]
    }
   ],
   "source": [
    "# Example1: Recursive function To find the factorial of an integer\n",
    "\n",
    "def factorial(Num):\n",
    "    \"\"\"DS: This  Recursive function is to find the factorial of an integer\"\"\"\n",
    "    \n",
    "    \n",
    "    if Num == 1:\n",
    "        return 1\n",
    "    \n",
    "    else:\n",
    "        return( Num* factorial(Num-1))\n",
    "    \n",
    "Num= 3\n",
    "print(\"the factorial of\", Num , \"is\"  , factorial(Num))\n",
    "\n"
   ]
  },
  {
   "cell_type": "markdown",
   "id": "4c0709fb",
   "metadata": {},
   "source": [
    "Here \n",
    "- factorial(3)          # 1st call with 3\n",
    "- 3 * factorial(2)      # 2nd call with 2\n",
    "- 3 * 2 * factorial(1)  # 3rd call with 1\n",
    "- 3 * 2 * 1             # return from 3rd call as number=1\n",
    "- 3 * 2                 # return from 2nd call\n",
    "- 6                     # return from 1st call"
   ]
  },
  {
   "cell_type": "markdown",
   "id": "6582c352",
   "metadata": {},
   "source": [
    "- Advantages of Recursion:\n",
    "  Recursive functions make the code look clean and elegant.\n",
    "  A complex task can be broken down into simpler sub-problems using recursion.\n",
    "  Sequence generation is easier with recursion than using some nested iteration.\n",
    "\n",
    "- Disadvantages of Recursion:\n",
    "  Sometimes the logic behind recursion is hard to follow through.\n",
    "  Recursive calls are expensive (inefficient) as they take up a lot of memory and time.\n",
    "  Recursive functions are hard to debug.\n",
    "\n"
   ]
  },
  {
   "cell_type": "markdown",
   "id": "671bb8df",
   "metadata": {},
   "source": [
    "## 2.4 Anonymous or Lambda Function\n",
    "\n",
    "- Used when we require a nameless function for short time.\n",
    "- generally use it as an argument to a higher-order function \n",
    "  (a function that takes in other functions as arguments)\n",
    "- Used along with built-in functions like filter(), map(), reduce() etc\n",
    " "
   ]
  },
  {
   "cell_type": "markdown",
   "id": "18e8b617",
   "metadata": {},
   "source": [
    "##### exapmles"
   ]
  },
  {
   "cell_type": "code",
   "execution_count": 6,
   "id": "a5e355ec",
   "metadata": {},
   "outputs": [
    {
     "name": "stdout",
     "output_type": "stream",
     "text": [
      "120\n"
     ]
    }
   ],
   "source": [
    "#Example1\n",
    "\n",
    "# Syntax: It can have any number of arguments but only one expression.\n",
    " # [lambda] [arguments]: [Expressions]\n",
    " \n",
    "fact = lambda x: factorial(x)      # above defined function is used here as an expression\n",
    "print(fact(5))"
   ]
  },
  {
   "cell_type": "code",
   "execution_count": 7,
   "id": "d58d2698",
   "metadata": {},
   "outputs": [
    {
     "name": "stdout",
     "output_type": "stream",
     "text": [
      "10\n"
     ]
    }
   ],
   "source": [
    "#example2\n",
    " \n",
    "double = lambda a: a*2\n",
    "\n",
    "print(double(5))"
   ]
  },
  {
   "cell_type": "code",
   "execution_count": 8,
   "id": "0c34f398",
   "metadata": {},
   "outputs": [
    {
     "name": "stdout",
     "output_type": "stream",
     "text": [
      "[2, 4, 6, 12, 14]\n"
     ]
    }
   ],
   "source": [
    "#Example 3: use of filter() function to filter out only even numbers from a list.\n",
    "     # Learn about filter function  if needed\n",
    "\n",
    "list1 = [ 2, 45, 4, 5, 6, 12, 14]\n",
    "\n",
    "New_list = list(filter(lambda x: (x%2==0), list1))\n",
    "\n",
    "print(New_list)"
   ]
  },
  {
   "cell_type": "code",
   "execution_count": 9,
   "id": "3d1754b0",
   "metadata": {
    "scrolled": true
   },
   "outputs": [
    {
     "name": "stdout",
     "output_type": "stream",
     "text": [
      "[4, 90, 8, 10, 12, 24, 28]\n"
     ]
    }
   ],
   "source": [
    "#Example 4: use of lambda with Map funtion\n",
    "\n",
    "   # Just to double each elements using Map Function\n",
    "list2 = list(map( lambda x: (x*2), list1))    # map( lambda x: (x*2), list1)\n",
    "print(list2)"
   ]
  },
  {
   "cell_type": "markdown",
   "id": "bec0521a",
   "metadata": {},
   "source": [
    "# More about filter(), map() and reduce()"
   ]
  },
  {
   "cell_type": "markdown",
   "id": "d3b50a54",
   "metadata": {},
   "source": [
    "#### filter()\n",
    "\n",
    "- The filter() function returns an iterator were the items are filtered through a function to test if the item is accepted or not.\n",
    "\n",
    "\n",
    "###### syntax:\n",
    "\n",
    "  - filter(function, iterable)\n",
    " \n",
    " \n",
    " \n",
    " \n",
    " \n",
    " #### map()\n",
    "\n",
    "- The map() function executes a specified function for each item in an iterable. The item is sent to the function as a parameter.\n",
    "\n",
    "###### syntax:\n",
    "\n",
    "  - map(function, iterable)\n",
    "  \n",
    "  \n",
    "  \n",
    "  \n",
    "  #### reduce()\n",
    "- the reduce() used______\n",
    "\n",
    "###### syntax:\n",
    "\n",
    "  - reduce(function, iterable)\n",
    "  "
   ]
  },
  {
   "cell_type": "code",
   "execution_count": 21,
   "id": "8ceff439",
   "metadata": {
    "scrolled": true
   },
   "outputs": [
    {
     "name": "stdout",
     "output_type": "stream",
     "text": [
      "[24, 45, 66, 77]\n",
      "24\n",
      "45\n",
      "66\n",
      "77\n"
     ]
    }
   ],
   "source": [
    "# Example filter()\n",
    "\n",
    "ages = [12,24,45,66,77]\n",
    "\n",
    "def myfunc(x):\n",
    "    if x<18:\n",
    "        return False\n",
    "    else:\n",
    "        return True\n",
    "    \n",
    "\n",
    "adults = list(filter(myfunc,ages))   \n",
    "\n",
    "print(adults)  #list()  function  lagana zaruri hai ek baar hata ke dekh lona!\n",
    "\n",
    "for x in adults:\n",
    "    print(x)"
   ]
  },
  {
   "cell_type": "code",
   "execution_count": 27,
   "id": "5cbcd9e4",
   "metadata": {},
   "outputs": [
    {
     "name": "stdout",
     "output_type": "stream",
     "text": [
      "[99, 54, 65, 39, 33, 69, 76]\n"
     ]
    }
   ],
   "source": [
    "# Example1 Map\n",
    "\n",
    "marks = [90,45,56,30,24,60, 67]\n",
    "\n",
    "\n",
    "r_marks = list(map(lambda x: x+9, marks))       #marked is scaled: all student pass the exam\n",
    "\n",
    "print(r_marks)    "
   ]
  },
  {
   "cell_type": "code",
   "execution_count": 30,
   "id": "e84a7196",
   "metadata": {},
   "outputs": [
    {
     "name": "stdout",
     "output_type": "stream",
     "text": [
      "[90, 45, 56, 33, 33, 60, 67]\n"
     ]
    }
   ],
   "source": [
    "#Example2: map\n",
    "\n",
    "#partiality \n",
    "\n",
    "marks = [90,45,56,30,24,60, 67]\n",
    "\n",
    "\n",
    "def myfunc(x):\n",
    "    if x<33:\n",
    "        return 33\n",
    "    \n",
    "    else:\n",
    "        return x\n",
    "        \n",
    "\n",
    "r_marks = list(map(myfunc, marks))       #marked is partially incresed: all failing-student pass the exam\n",
    "\n",
    "print(r_marks)    "
   ]
  },
  {
   "cell_type": "code",
   "execution_count": 31,
   "id": "218d466c",
   "metadata": {},
   "outputs": [
    {
     "name": "stdout",
     "output_type": "stream",
     "text": [
      "120\n"
     ]
    }
   ],
   "source": [
    "# eample: of reduce() function   ###Craming only\n",
    "from functools import reduce\n",
    "\n",
    "lis = [1,2,3,4,5]\n",
    "\n",
    "product = reduce(lambda x,y: x*y, lis)\n",
    "\n",
    "print (product)\n",
    "\n"
   ]
  },
  {
   "cell_type": "markdown",
   "id": "e01fb944",
   "metadata": {},
   "source": [
    "## -\n",
    "\n",
    "\n",
    "\n",
    "\n",
    "\n",
    "\n",
    "\n",
    "\n",
    "## -\n",
    "\n",
    "\n",
    "\n",
    "\n",
    "\n",
    "\n",
    "\n",
    "\n",
    "\n",
    "## -\n",
    "\n",
    "\n",
    "\n",
    "\n",
    "\n",
    "## --"
   ]
  },
  {
   "cell_type": "markdown",
   "id": "0647d08c",
   "metadata": {},
   "source": [
    "\n",
    "## Do a quick Recap Here"
   ]
  },
  {
   "cell_type": "code",
   "execution_count": 10,
   "id": "ff38859e",
   "metadata": {},
   "outputs": [
    {
     "name": "stdout",
     "output_type": "stream",
     "text": [
      "sum of 3 and 4 is :  7\n"
     ]
    }
   ],
   "source": [
    "def jodo(a,b):\n",
    "    #Docsstring: this funtion add two numbers\n",
    "\n",
    "    print(\"sum of\", a , \"and\" ,  b  , \"is : \",  a+b)\n",
    "\n",
    "jodo(3,4)"
   ]
  },
  {
   "cell_type": "markdown",
   "id": "fa2ffa69",
   "metadata": {},
   "source": [
    "## Recap AGAIN -> PRACTICE AGAIN"
   ]
  }
 ],
 "metadata": {
  "kernelspec": {
   "display_name": "Python 3 (ipykernel)",
   "language": "python",
   "name": "python3"
  },
  "language_info": {
   "codemirror_mode": {
    "name": "ipython",
    "version": 3
   },
   "file_extension": ".py",
   "mimetype": "text/x-python",
   "name": "python",
   "nbconvert_exporter": "python",
   "pygments_lexer": "ipython3",
   "version": "3.9.12"
  }
 },
 "nbformat": 4,
 "nbformat_minor": 5
}
