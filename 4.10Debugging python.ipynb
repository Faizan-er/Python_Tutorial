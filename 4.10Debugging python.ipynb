{
 "cells": [
  {
   "cell_type": "code",
   "execution_count": null,
   "id": "479f7b59",
   "metadata": {},
   "outputs": [
    {
     "name": "stdout",
     "output_type": "stream",
     "text": [
      "> \u001b[1;32mc:\\users\\faizan_shakeel\\appdata\\local\\temp\\ipykernel_6916\\153061762.py\u001b[0m(7)\u001b[0;36mseq\u001b[1;34m()\u001b[0m\n",
      "\n"
     ]
    }
   ],
   "source": [
    "#Example1   interactive debugging\n",
    "import pdb     #p d b:: pYTHON dE bUGGER\n",
    "\n",
    "def seq(n):\n",
    "    for i in range(n):\n",
    "        pdb.set_trace()  #breakpoint\n",
    "        print(i)\n",
    "    return\n",
    "\n",
    "\n",
    "seq(7)\n",
    "\n",
    "\n",
    "# c : continue\n",
    "# q : quit\n",
    "# h : help    #will give you all the debugger function\n",
    "# p : print   #or may write \"print\" also\n",
    "# p locals()\n",
    "# p globals"
   ]
  },
  {
   "cell_type": "markdown",
   "id": "e9f56ecf",
   "metadata": {},
   "source": [
    "# Debugging in python"
   ]
  },
  {
   "cell_type": "code",
   "execution_count": null,
   "id": "51e0090f",
   "metadata": {},
   "outputs": [],
   "source": [
    "#Example2    #multiple breakpoint\n",
    "import pdb     #p d b:: pYTHON dE bUGGER\n",
    "\n",
    "def adding(a,b):\n",
    "    ans= a+b\n",
    "    return ans\n",
    "\n",
    "pdb.set_trace()\n",
    "x = input(\"Enter First Number: \")\n",
    "\n",
    "pdb.set_trace()\n",
    "y = input (\"Enter Second Number: \")\n",
    "\n",
    "pdb.set_trace()\n",
    "sum= adding(x,y)\n",
    "\n",
    "pdb.set_trace()\n",
    "print(sum)"
   ]
  },
  {
   "cell_type": "markdown",
   "id": "6d880b37",
   "metadata": {},
   "source": [
    "### Debugger commands"
   ]
  },
  {
   "cell_type": "markdown",
   "id": "76d72afe",
   "metadata": {},
   "source": [
    "##### 1. c(continiue)"
   ]
  },
  {
   "cell_type": "markdown",
   "id": "f519e936",
   "metadata": {},
   "source": [
    "##### 2. p locals()"
   ]
  },
  {
   "cell_type": "markdown",
   "id": "adcd6b27",
   "metadata": {},
   "source": [
    "##### 3. h (help)"
   ]
  },
  {
   "cell_type": "markdown",
   "id": "41fa9250",
   "metadata": {},
   "source": [
    "##### 4. q(quit)"
   ]
  },
  {
   "cell_type": "markdown",
   "id": "2fc651ab",
   "metadata": {},
   "source": [
    "###### genrally all the commads documents are available easily on internet"
   ]
  },
  {
   "cell_type": "code",
   "execution_count": null,
   "id": "d291a4f5",
   "metadata": {},
   "outputs": [],
   "source": [
    "# We can debug in command prompt as well"
   ]
  }
 ],
 "metadata": {
  "kernelspec": {
   "display_name": "Python 3 (ipykernel)",
   "language": "python",
   "name": "python3"
  },
  "language_info": {
   "codemirror_mode": {
    "name": "ipython",
    "version": 3
   },
   "file_extension": ".py",
   "mimetype": "text/x-python",
   "name": "python",
   "nbconvert_exporter": "python",
   "pygments_lexer": "ipython3",
   "version": "3.9.12"
  }
 },
 "nbformat": 4,
 "nbformat_minor": 5
}
