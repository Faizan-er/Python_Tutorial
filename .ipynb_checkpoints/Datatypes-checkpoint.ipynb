{
 "cells": [
  {
   "cell_type": "markdown",
   "id": "e322e2ba",
   "metadata": {},
   "source": [
    "# Learning Applied AI Course in Short\n",
    "- Learning on basis of application first\n",
    "- thenfinal regressive revision "
   ]
  },
  {
   "cell_type": "code",
   "execution_count": null,
   "id": "a549a544",
   "metadata": {},
   "outputs": [],
   "source": [
    "print(\"kam ka python sikho pahle\")"
   ]
  }
 ],
 "metadata": {
  "kernelspec": {
   "display_name": "Python 3",
   "language": "python",
   "name": "python3"
  },
  "language_info": {
   "codemirror_mode": {
    "name": "ipython",
    "version": 3
   },
   "file_extension": ".py",
   "mimetype": "text/x-python",
   "name": "python",
   "nbconvert_exporter": "python",
   "pygments_lexer": "ipython3",
   "version": "3.8.8"
  }
 },
 "nbformat": 4,
 "nbformat_minor": 5
}
